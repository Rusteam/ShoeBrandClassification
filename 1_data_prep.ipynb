{
 "cells": [
  {
   "cell_type": "markdown",
   "metadata": {},
   "source": [
    "# Data preparation for building a classifier\n",
    "\n",
    "``Input:``\n",
    "\n",
    "root-dir\n",
    "\n",
    "    |- label 1\n",
    "        |- image 1\n",
    "        |- image 2\n",
    "        ...\n",
    "    |- label 2\n",
    "        |- image 1\n",
    "        |- image 2\n",
    "        ...\n",
    "    ...\n",
    "\n",
    "``Output:``\n",
    "\n",
    "train-dir\n",
    "\n",
    "    |- label 1\n",
    "        |- image 1\n",
    "        |- image 3\n",
    "        ...\n",
    "    |- label 2\n",
    "        |- image 1\n",
    "        |- image 3\n",
    "        ...\n",
    "    ...\n",
    "    \n",
    "test-dir\n",
    "\n",
    "    |- label 1\n",
    "        |- image 2\n",
    "        |- image 4\n",
    "        ...\n",
    "    |- label 2\n",
    "        |- image 2\n",
    "        |- image 4\n",
    "        ...\n",
    "    ...\n",
    "\n",
    "### Algorithm\n",
    "\n",
    "1. Get image paths\n",
    "2. Randomly split them into train and test\n",
    "    - fix percentage test images for each class\n",
    "3. Copy images to train and test directories\n",
    "4. Save dataframes with class label and image path both for train and test\n",
    "    - we will use with torch's dataloader"
   ]
  },
  {
   "cell_type": "code",
   "execution_count": 1,
   "metadata": {},
   "outputs": [],
   "source": [
    "%matplotlib inline\n",
    "\n",
    "import os\n",
    "from tqdm import tqdm\n",
    "import shutil\n",
    "import numpy as np\n",
    "import pandas as pd\n",
    "import imageio"
   ]
  },
  {
   "cell_type": "code",
   "execution_count": 3,
   "metadata": {},
   "outputs": [],
   "source": [
    "DATA_DIR = './data/'\n",
    "TRAIN_DIR = './Train/'\n",
    "TEST_DIR = './Test/'"
   ]
  },
  {
   "cell_type": "markdown",
   "metadata": {},
   "source": [
    "### Prepare data"
   ]
  },
  {
   "cell_type": "markdown",
   "metadata": {},
   "source": [
    "##### Get class labels"
   ]
  },
  {
   "cell_type": "code",
   "execution_count": 4,
   "metadata": {},
   "outputs": [
    {
     "data": {
      "text/plain": [
       "14"
      ]
     },
     "execution_count": 4,
     "metadata": {},
     "output_type": "execute_result"
    }
   ],
   "source": [
    "classes = os.listdir(DATA_DIR)\n",
    "\n",
    "len(classes)"
   ]
  },
  {
   "cell_type": "markdown",
   "metadata": {},
   "source": [
    "##### List number of each class"
   ]
  },
  {
   "cell_type": "code",
   "execution_count": 5,
   "metadata": {},
   "outputs": [
    {
     "name": "stdout",
     "output_type": "stream",
     "text": [
      "lecoq 301\n",
      "crocs 296\n",
      "sbenu 362\n",
      "descente 111\n",
      "zeepseen 233\n",
      "converse 479\n",
      "barefoot 248\n",
      "newbalance 422\n",
      "adidas 687\n",
      "puma 655\n",
      "nike 659\n",
      "drmartens 493\n",
      "reebok 777\n",
      "vans 453\n"
     ]
    }
   ],
   "source": [
    "files = {}\n",
    "\n",
    "for cl in classes:\n",
    "    class_files = os.listdir(os.path.join(DATA_DIR, cl))\n",
    "    files[cl] = [os.path.join(DATA_DIR, cl, f) for f in class_files]\n",
    "    print(cl, len(class_files))"
   ]
  },
  {
   "cell_type": "markdown",
   "metadata": {},
   "source": [
    "##### Clean subdirs"
   ]
  },
  {
   "cell_type": "code",
   "execution_count": 6,
   "metadata": {},
   "outputs": [],
   "source": [
    "!rm -r $TRAIN_DIR\n",
    "\n",
    "!rm -r $TEST_DIR"
   ]
  },
  {
   "cell_type": "markdown",
   "metadata": {},
   "source": [
    "##### Create subdirs and copy random images into Train and Test"
   ]
  },
  {
   "cell_type": "code",
   "execution_count": 46,
   "metadata": {},
   "outputs": [],
   "source": [
    "NUM_TEST = 30"
   ]
  },
  {
   "cell_type": "code",
   "execution_count": 47,
   "metadata": {},
   "outputs": [],
   "source": [
    "for cl in classes:\n",
    "    train_subdir = os.path.join(TRAIN_DIR, cl)\n",
    "    if not os.path.exists(train_subdir):\n",
    "        os.makedirs(train_subdir)\n",
    "    test_subdir = os.path.join(TEST_DIR, cl)\n",
    "    if not os.path.exists(test_subdir):\n",
    "        os.makedirs(test_subdir)"
   ]
  },
  {
   "cell_type": "code",
   "execution_count": 52,
   "metadata": {},
   "outputs": [
    {
     "data": {
      "text/html": [
       "<div>\n",
       "<style scoped>\n",
       "    .dataframe tbody tr th:only-of-type {\n",
       "        vertical-align: middle;\n",
       "    }\n",
       "\n",
       "    .dataframe tbody tr th {\n",
       "        vertical-align: top;\n",
       "    }\n",
       "\n",
       "    .dataframe thead th {\n",
       "        text-align: right;\n",
       "    }\n",
       "</style>\n",
       "<table border=\"1\" class=\"dataframe\">\n",
       "  <thead>\n",
       "    <tr style=\"text-align: right;\">\n",
       "      <th></th>\n",
       "      <th>index</th>\n",
       "      <th>filepath</th>\n",
       "      <th>subset</th>\n",
       "    </tr>\n",
       "  </thead>\n",
       "  <tbody>\n",
       "    <tr>\n",
       "      <th>0</th>\n",
       "      <td>zeepseen</td>\n",
       "      <td>./data/zeepseen/41.jpg</td>\n",
       "      <td>./Train/</td>\n",
       "    </tr>\n",
       "    <tr>\n",
       "      <th>1</th>\n",
       "      <td>zeepseen</td>\n",
       "      <td>./data/zeepseen/48755.jpg</td>\n",
       "      <td>./Train/</td>\n",
       "    </tr>\n",
       "    <tr>\n",
       "      <th>2</th>\n",
       "      <td>zeepseen</td>\n",
       "      <td>./data/zeepseen/min001012.jpg</td>\n",
       "      <td>./Train/</td>\n",
       "    </tr>\n",
       "    <tr>\n",
       "      <th>3</th>\n",
       "      <td>zeepseen</td>\n",
       "      <td>./data/zeepseen/39.JPG</td>\n",
       "      <td>./Train/</td>\n",
       "    </tr>\n",
       "    <tr>\n",
       "      <th>4</th>\n",
       "      <td>zeepseen</td>\n",
       "      <td>./data/zeepseen/pla001996.jpg</td>\n",
       "      <td>./Train/</td>\n",
       "    </tr>\n",
       "  </tbody>\n",
       "</table>\n",
       "</div>"
      ],
      "text/plain": [
       "      index                       filepath    subset\n",
       "0  zeepseen         ./data/zeepseen/41.jpg  ./Train/\n",
       "1  zeepseen      ./data/zeepseen/48755.jpg  ./Train/\n",
       "2  zeepseen  ./data/zeepseen/min001012.jpg  ./Train/\n",
       "3  zeepseen         ./data/zeepseen/39.JPG  ./Train/\n",
       "4  zeepseen  ./data/zeepseen/pla001996.jpg  ./Train/"
      ]
     },
     "execution_count": 52,
     "metadata": {},
     "output_type": "execute_result"
    }
   ],
   "source": [
    "filepaths = pd.DataFrame(columns=['filepath','subset'])\n",
    "\n",
    "for lab,fp in files.items():\n",
    "    tmp = pd.DataFrame(fp, index=[lab]*len(fp), columns=['filepath'])\n",
    "    test_prob = NUM_TEST / len(fp)\n",
    "    tmp['subset'] = np.random.choice([TRAIN_DIR,TEST_DIR], size=len(fp), p=[1 - test_prob, test_prob])\n",
    "    filepaths = filepaths.append(tmp)\n",
    "    \n",
    "filepaths.reset_index(inplace=True)\n",
    "filepaths.head()"
   ]
  },
  {
   "cell_type": "markdown",
   "metadata": {},
   "source": [
    "##### Select only valid extensions"
   ]
  },
  {
   "cell_type": "code",
   "execution_count": 53,
   "metadata": {},
   "outputs": [
    {
     "data": {
      "text/plain": [
       "(6161, 3)"
      ]
     },
     "execution_count": 53,
     "metadata": {},
     "output_type": "execute_result"
    }
   ],
   "source": [
    "filepaths = filepaths[(filepaths['filepath'].str.endswith('jpg')) | (filepaths['filepath'].str.endswith('jpeg'))]\n",
    "filepaths.shape"
   ]
  },
  {
   "cell_type": "code",
   "execution_count": 54,
   "metadata": {},
   "outputs": [
    {
     "data": {
      "text/plain": [
       "./Train/    5747\n",
       "./Test/      414\n",
       "Name: subset, dtype: int64"
      ]
     },
     "execution_count": 54,
     "metadata": {},
     "output_type": "execute_result"
    }
   ],
   "source": [
    "filepaths['subset'].value_counts()"
   ]
  },
  {
   "cell_type": "code",
   "execution_count": 55,
   "metadata": {},
   "outputs": [
    {
     "data": {
      "text/plain": [
       "index       subset  \n",
       "adidas      ./Test/      27\n",
       "            ./Train/    660\n",
       "barefoot    ./Test/      32\n",
       "            ./Train/    211\n",
       "converse    ./Test/      31\n",
       "            ./Train/    447\n",
       "crocs       ./Test/      35\n",
       "            ./Train/    261\n",
       "descente    ./Test/      26\n",
       "            ./Train/     85\n",
       "drmartens   ./Test/      26\n",
       "            ./Train/    467\n",
       "lecoq       ./Test/      28\n",
       "            ./Train/    273\n",
       "newbalance  ./Test/      27\n",
       "            ./Train/    395\n",
       "nike        ./Test/      36\n",
       "            ./Train/    623\n",
       "puma        ./Test/      39\n",
       "            ./Train/    615\n",
       "reebok      ./Test/      29\n",
       "            ./Train/    748\n",
       "sbenu       ./Test/      33\n",
       "            ./Train/    329\n",
       "vans        ./Test/      22\n",
       "            ./Train/    431\n",
       "zeepseen    ./Test/      23\n",
       "            ./Train/    202\n",
       "Name: filepath, dtype: int64"
      ]
     },
     "execution_count": 55,
     "metadata": {},
     "output_type": "execute_result"
    }
   ],
   "source": [
    "filepaths.groupby(['index','subset'])['filepath'].nunique()"
   ]
  },
  {
   "cell_type": "markdown",
   "metadata": {},
   "source": [
    "### Copy images"
   ]
  },
  {
   "cell_type": "markdown",
   "metadata": {},
   "source": [
    "##### Create destination filepath and copy"
   ]
  },
  {
   "cell_type": "code",
   "execution_count": 56,
   "metadata": {},
   "outputs": [],
   "source": [
    "filepaths['fname'] = filepaths['filepath'].apply(lambda x: x.split('/')[-1])\n",
    "\n",
    "filepaths['dest'] = filepaths.apply(lambda x: os.path.join(x['subset'], x['index'], x['fname']), axis=1)"
   ]
  },
  {
   "cell_type": "code",
   "execution_count": 58,
   "metadata": {
    "scrolled": true
   },
   "outputs": [
    {
     "name": "stdout",
     "output_type": "stream",
     "text": [
      "Could not copy ./data/crocs/187.jpg\n",
      "Could not copy ./data/crocs/91.jpg\n",
      "Could not copy ./data/sbenu/513.jpg\n",
      "Could not copy ./data/vans/268.jpg\n",
      "Could not copy ./data/nike/602.jpg\n",
      "Could not copy ./data/nike/102.jpg\n",
      "Could not copy ./data/nike/185.jpg\n",
      "Could not copy ./data/nike/199.jpg\n",
      "Could not copy ./data/nike/153.jpg\n",
      "Could not copy ./data/descente/394.jpg\n",
      "Could not copy ./data/descente/56.jpg\n",
      "Could not copy ./data/descente/288.jpg\n",
      "Could not copy ./data/descente/18.jpg\n",
      "Could not copy ./data/descente/301.jpg\n",
      "Could not copy ./data/descente/195.jpg\n",
      "Could not copy ./data/adidas/162.jpg\n",
      "Could not copy ./data/adidas/312.jpg\n",
      "Could not copy ./data/adidas/348.jpg\n",
      "Could not copy ./data/adidas/473.jpg\n",
      "Could not copy ./data/adidas/137.jpg\n",
      "Could not copy ./data/adidas/247.jpg\n",
      "Could not copy ./data/adidas/438.jpg\n",
      "Could not copy ./data/adidas/173.jpg\n"
     ]
    },
    {
     "name": "stderr",
     "output_type": "stream",
     "text": [
      "/home/akbds/.local/lib/python3.5/site-packages/PIL/TiffImagePlugin.py:754: UserWarning: Possibly corrupt EXIF data.  Expecting to read 19660800 bytes but only got 0. Skipping tag 0\n",
      "  \" Skipping tag %s\" % (size, len(data), tag))\n",
      "/home/akbds/.local/lib/python3.5/site-packages/PIL/TiffImagePlugin.py:754: UserWarning: Possibly corrupt EXIF data.  Expecting to read 2284257280 bytes but only got 0. Skipping tag 0\n",
      "  \" Skipping tag %s\" % (size, len(data), tag))\n",
      "/home/akbds/.local/lib/python3.5/site-packages/PIL/TiffImagePlugin.py:754: UserWarning: Possibly corrupt EXIF data.  Expecting to read 19599982592 bytes but only got 0. Skipping tag 0\n",
      "  \" Skipping tag %s\" % (size, len(data), tag))\n",
      "/home/akbds/.local/lib/python3.5/site-packages/PIL/TiffImagePlugin.py:754: UserWarning: Possibly corrupt EXIF data.  Expecting to read 2684485632 bytes but only got 0. Skipping tag 0\n",
      "  \" Skipping tag %s\" % (size, len(data), tag))\n",
      "/home/akbds/.local/lib/python3.5/site-packages/PIL/TiffImagePlugin.py:754: UserWarning: Possibly corrupt EXIF data.  Expecting to read 2734686208 bytes but only got 0. Skipping tag 0\n",
      "  \" Skipping tag %s\" % (size, len(data), tag))\n",
      "/home/akbds/.local/lib/python3.5/site-packages/PIL/TiffImagePlugin.py:754: UserWarning: Possibly corrupt EXIF data.  Expecting to read 2751660032 bytes but only got 0. Skipping tag 0\n",
      "  \" Skipping tag %s\" % (size, len(data), tag))\n",
      "/home/akbds/.local/lib/python3.5/site-packages/PIL/TiffImagePlugin.py:754: UserWarning: Possibly corrupt EXIF data.  Expecting to read 2751725568 bytes but only got 0. Skipping tag 0\n",
      "  \" Skipping tag %s\" % (size, len(data), tag))\n",
      "/home/akbds/.local/lib/python3.5/site-packages/PIL/TiffImagePlugin.py:754: UserWarning: Possibly corrupt EXIF data.  Expecting to read 2752249856 bytes but only got 0. Skipping tag 0\n",
      "  \" Skipping tag %s\" % (size, len(data), tag))\n",
      "/home/akbds/.local/lib/python3.5/site-packages/PIL/TiffImagePlugin.py:754: UserWarning: Possibly corrupt EXIF data.  Expecting to read 25165824 bytes but only got 0. Skipping tag 2\n",
      "  \" Skipping tag %s\" % (size, len(data), tag))\n",
      "/home/akbds/.local/lib/python3.5/site-packages/PIL/TiffImagePlugin.py:754: UserWarning: Possibly corrupt EXIF data.  Expecting to read 524288 bytes but only got 0. Skipping tag 5\n",
      "  \" Skipping tag %s\" % (size, len(data), tag))\n",
      "/home/akbds/.local/lib/python3.5/site-packages/PIL/TiffImagePlugin.py:754: UserWarning: Possibly corrupt EXIF data.  Expecting to read 1048576 bytes but only got 0. Skipping tag 5\n",
      "  \" Skipping tag %s\" % (size, len(data), tag))\n",
      "/home/akbds/.local/lib/python3.5/site-packages/PIL/TiffImagePlugin.py:754: UserWarning: Possibly corrupt EXIF data.  Expecting to read 131072 bytes but only got 0. Skipping tag 3\n",
      "  \" Skipping tag %s\" % (size, len(data), tag))\n",
      "/home/akbds/.local/lib/python3.5/site-packages/PIL/TiffImagePlugin.py:754: UserWarning: Possibly corrupt EXIF data.  Expecting to read 8388608 bytes but only got 0. Skipping tag 5\n",
      "  \" Skipping tag %s\" % (size, len(data), tag))\n",
      "/home/akbds/.local/lib/python3.5/site-packages/PIL/TiffImagePlugin.py:754: UserWarning: Possibly corrupt EXIF data.  Expecting to read 9437184 bytes but only got 0. Skipping tag 5\n",
      "  \" Skipping tag %s\" % (size, len(data), tag))\n",
      "/home/akbds/.local/lib/python3.5/site-packages/PIL/TiffImagePlugin.py:754: UserWarning: Possibly corrupt EXIF data.  Expecting to read 25165824 bytes but only got 0. Skipping tag 5\n",
      "  \" Skipping tag %s\" % (size, len(data), tag))\n",
      "/home/akbds/.local/lib/python3.5/site-packages/PIL/TiffImagePlugin.py:754: UserWarning: Possibly corrupt EXIF data.  Expecting to read 14155776 bytes but only got 0. Skipping tag 5\n",
      "  \" Skipping tag %s\" % (size, len(data), tag))\n",
      "/home/akbds/.local/lib/python3.5/site-packages/PIL/TiffImagePlugin.py:754: UserWarning: Possibly corrupt EXIF data.  Expecting to read 33947648 bytes but only got 0. Skipping tag 4\n",
      "  \" Skipping tag %s\" % (size, len(data), tag))\n",
      "/home/akbds/.local/lib/python3.5/site-packages/PIL/TiffImagePlugin.py:754: UserWarning: Possibly corrupt EXIF data.  Expecting to read 79953920 bytes but only got 0. Skipping tag 4\n",
      "  \" Skipping tag %s\" % (size, len(data), tag))\n",
      "/home/akbds/.local/lib/python3.5/site-packages/PIL/TiffImagePlugin.py:754: UserWarning: Possibly corrupt EXIF data.  Expecting to read 524288 bytes but only got 0. Skipping tag 0\n",
      "  \" Skipping tag %s\" % (size, len(data), tag))\n",
      "/home/akbds/.local/lib/python3.5/site-packages/PIL/TiffImagePlugin.py:754: UserWarning: Possibly corrupt EXIF data.  Expecting to read 285413634 bytes but only got 0. Skipping tag 780\n",
      "  \" Skipping tag %s\" % (size, len(data), tag))\n"
     ]
    },
    {
     "name": "stdout",
     "output_type": "stream",
     "text": [
      "Could not copy ./data/converse/152.jpg\n"
     ]
    },
    {
     "name": "stderr",
     "output_type": "stream",
     "text": [
      "/home/akbds/.local/lib/python3.5/site-packages/PIL/TiffImagePlugin.py:754: UserWarning: Possibly corrupt EXIF data.  Expecting to read 7436 bytes but only got 7408. Skipping tag 37500\n",
      "  \" Skipping tag %s\" % (size, len(data), tag))\n"
     ]
    },
    {
     "name": "stdout",
     "output_type": "stream",
     "text": [
      "Could not copy ./data/lecoq/54.jpg\n",
      "Could not copy ./data/lecoq/63.jpg\n"
     ]
    }
   ],
   "source": [
    "for i,row in tqdm(filepaths.iterrows()):\n",
    "    img_shape = imageio.imread(row['filepath']).shape\n",
    "    if (len(img_shape) == 3) & (img_shape[-1] == 3):\n",
    "        _ = shutil.copy(row['filepath'], row['dest'])\n",
    "    else:\n",
    "        print('Could not copy %s' % row['filepath'])"
   ]
  },
  {
   "cell_type": "markdown",
   "metadata": {},
   "source": [
    "##### Save dataframes with image paths and labels"
   ]
  },
  {
   "cell_type": "code",
   "execution_count": 71,
   "metadata": {},
   "outputs": [],
   "source": [
    "train_df = pd.DataFrame(columns=['class','filepath'])\n",
    "test_df = pd.DataFrame(columns=['class','filepath'])\n",
    "\n",
    "for cl in classes:\n",
    "    train_dest = os.path.join(TRAIN_DIR, cl)\n",
    "    test_dest = os.path.join(TEST_DIR, cl)\n",
    "    train_filepaths = [os.path.join(train_dest, fp) for fp in os.listdir(train_dest)]\n",
    "    test_filepaths = [os.path.join(test_dest, fp) for fp in os.listdir(test_dest)]\n",
    "    train_df = train_df.append(pd.DataFrame({'class': cl,\n",
    "                                             'filepath': train_filepaths}))\n",
    "    test_df = test_df.append(pd.DataFrame({'class': cl,\n",
    "                                             'filepath': test_filepaths}))"
   ]
  },
  {
   "cell_type": "raw",
   "metadata": {},
   "source": [
    "train_df = filepaths[filepaths['subset'] == TRAIN_DIR][['index','dest']]\n",
    "test_df = filepaths[filepaths['subset'] == TEST_DIR][['index','dest']]"
   ]
  },
  {
   "cell_type": "code",
   "execution_count": 72,
   "metadata": {},
   "outputs": [
    {
     "data": {
      "text/plain": [
       "((5722, 2), (413, 2))"
      ]
     },
     "execution_count": 72,
     "metadata": {},
     "output_type": "execute_result"
    }
   ],
   "source": [
    "train_df.shape, test_df.shape"
   ]
  },
  {
   "cell_type": "code",
   "execution_count": 73,
   "metadata": {},
   "outputs": [],
   "source": [
    "train_df.sample(n=len(train_df), replace=False).to_csv('./train_df.csv', index=False)\n",
    "test_df.sample(n=len(test_df), replace=False).to_csv('./test_df.csv', index=False)"
   ]
  },
  {
   "cell_type": "code",
   "execution_count": null,
   "metadata": {},
   "outputs": [],
   "source": []
  }
 ],
 "metadata": {
  "kernelspec": {
   "display_name": "Python 3",
   "language": "python",
   "name": "python3"
  },
  "language_info": {
   "codemirror_mode": {
    "name": "ipython",
    "version": 3
   },
   "file_extension": ".py",
   "mimetype": "text/x-python",
   "name": "python",
   "nbconvert_exporter": "python",
   "pygments_lexer": "ipython3",
   "version": "3.5.5"
  }
 },
 "nbformat": 4,
 "nbformat_minor": 1
}
