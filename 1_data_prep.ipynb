{
 "cells": [
  {
   "cell_type": "code",
   "execution_count": 5,
   "metadata": {},
   "outputs": [],
   "source": [
    "%matplotlib inline"
   ]
  },
  {
   "cell_type": "code",
   "execution_count": 36,
   "metadata": {},
   "outputs": [],
   "source": [
    "import os\n",
    "from tqdm import tqdm\n",
    "import shutil\n",
    "import numpy as np\n",
    "import pandas as pd\n",
    "import imageio"
   ]
  },
  {
   "cell_type": "code",
   "execution_count": 6,
   "metadata": {},
   "outputs": [],
   "source": [
    "DATA_DIR = './data/'\n",
    "TRAIN_DIR = './Train/'\n",
    "TEST_DIR = './Test/'"
   ]
  },
  {
   "cell_type": "markdown",
   "metadata": {},
   "source": [
    "### Prepare data"
   ]
  },
  {
   "cell_type": "markdown",
   "metadata": {},
   "source": [
    "##### Get class labels"
   ]
  },
  {
   "cell_type": "code",
   "execution_count": 67,
   "metadata": {},
   "outputs": [
    {
     "data": {
      "text/plain": [
       "14"
      ]
     },
     "execution_count": 67,
     "metadata": {},
     "output_type": "execute_result"
    }
   ],
   "source": [
    "classes = os.listdir(DATA_DIR)\n",
    "\n",
    "len(classes)"
   ]
  },
  {
   "cell_type": "markdown",
   "metadata": {},
   "source": [
    "##### List number of each class"
   ]
  },
  {
   "cell_type": "code",
   "execution_count": 68,
   "metadata": {},
   "outputs": [
    {
     "name": "stdout",
     "output_type": "stream",
     "text": [
      "lecoq 301\n",
      "crocs 296\n",
      "sbenu 362\n",
      "descente 111\n",
      "zeepseen 233\n",
      "converse 479\n",
      "barefoot 248\n",
      "newbalance 422\n",
      "adidas 687\n",
      "puma 655\n",
      "nike 659\n",
      "drmartens 493\n",
      "reebok 777\n",
      "vans 453\n"
     ]
    }
   ],
   "source": [
    "files = {}\n",
    "\n",
    "for cl in classes:\n",
    "    class_files = os.listdir(os.path.join(DATA_DIR, cl))\n",
    "    files[cl] = [os.path.join(DATA_DIR, cl, f) for f in class_files]\n",
    "    print(cl, len(class_files))"
   ]
  },
  {
   "cell_type": "markdown",
   "metadata": {},
   "source": [
    "##### Clean subdirs"
   ]
  },
  {
   "cell_type": "code",
   "execution_count": 69,
   "metadata": {},
   "outputs": [],
   "source": [
    "!rm -r $TRAIN_DIR\n",
    "\n",
    "!rm -r $TEST_DIR"
   ]
  },
  {
   "cell_type": "markdown",
   "metadata": {},
   "source": [
    "##### Create subdirs and copy random images into Train and Test"
   ]
  },
  {
   "cell_type": "code",
   "execution_count": 70,
   "metadata": {},
   "outputs": [],
   "source": [
    "NUM_TRAIN = 100\n",
    "NUM_TEST = 30"
   ]
  },
  {
   "cell_type": "code",
   "execution_count": 71,
   "metadata": {},
   "outputs": [],
   "source": [
    "for cl in classes:\n",
    "    train_subdir = os.path.join(TRAIN_DIR, cl)\n",
    "    if not os.path.exists(train_subdir):\n",
    "        os.makedirs(train_subdir)\n",
    "    test_subdir = os.path.join(TEST_DIR, cl)\n",
    "    if not os.path.exists(test_subdir):\n",
    "        os.makedirs(test_subdir)"
   ]
  },
  {
   "cell_type": "code",
   "execution_count": 72,
   "metadata": {
    "scrolled": true
   },
   "outputs": [
    {
     "name": "stderr",
     "output_type": "stream",
     "text": [
      "\n",
      "\n",
      "\n",
      "  0%|          | 0/14 [00:00<?, ?it/s]\u001b[A\u001b[A\u001b[A"
     ]
    },
    {
     "name": "stdout",
     "output_type": "stream",
     "text": [
      "Could not copy ./data/descente/394.jpg\n",
      "Could not copy ./data/descente/18.jpg\n",
      "Could not copy ./data/descente/195.jpg\n",
      "Could not copy ./data/descente/288.jpg\n",
      "Could not copy ./data/descente/301.jpg\n"
     ]
    },
    {
     "name": "stderr",
     "output_type": "stream",
     "text": [
      "\n",
      "\n",
      "\n",
      "  7%|▋         | 1/14 [00:01<00:18,  1.42s/it]\u001b[A\u001b[A\u001b[A\n",
      "\n",
      "\n",
      " 14%|█▍        | 2/14 [00:04<00:24,  2.01s/it]\u001b[A\u001b[A\u001b[A"
     ]
    },
    {
     "name": "stdout",
     "output_type": "stream",
     "text": [
      "Could not copy ./data/nike/602.jpg\n"
     ]
    },
    {
     "name": "stderr",
     "output_type": "stream",
     "text": [
      "\n",
      "\n",
      "\n",
      " 21%|██▏       | 3/14 [00:08<00:28,  2.58s/it]\u001b[A\u001b[A\u001b[A\n",
      "\n",
      "\n",
      " 29%|██▊       | 4/14 [00:13<00:31,  3.19s/it]\u001b[A\u001b[A\u001b[A\n",
      "\n",
      "\n",
      " 36%|███▌      | 5/14 [00:17<00:30,  3.40s/it]\u001b[A\u001b[A\u001b[A\n",
      "\n",
      "\n",
      " 43%|████▎     | 6/14 [00:19<00:23,  2.98s/it]\u001b[A\u001b[A\u001b[A\n",
      "\n",
      "\n",
      " 50%|█████     | 7/14 [00:21<00:18,  2.66s/it]\u001b[A\u001b[A\u001b[A"
     ]
    },
    {
     "name": "stdout",
     "output_type": "stream",
     "text": [
      "Could not copy ./data/sbenu/513.jpg\n"
     ]
    },
    {
     "name": "stderr",
     "output_type": "stream",
     "text": [
      "\n",
      "\n",
      "\n",
      " 57%|█████▋    | 8/14 [00:22<00:13,  2.32s/it]\u001b[A\u001b[A\u001b[A"
     ]
    },
    {
     "name": "stdout",
     "output_type": "stream",
     "text": [
      "Could not copy ./data/adidas/137.jpg\n",
      "Could not copy ./data/adidas/312.jpg\n",
      "Could not copy ./data/adidas/348.jpg\n"
     ]
    },
    {
     "name": "stderr",
     "output_type": "stream",
     "text": [
      "\n",
      "\n",
      "\n",
      " 64%|██████▍   | 9/14 [00:27<00:14,  2.95s/it]\u001b[A\u001b[A\u001b[A"
     ]
    },
    {
     "name": "stdout",
     "output_type": "stream",
     "text": [
      "Could not copy ./data/adidas/438.jpg\n",
      "Could not copy ./data/crocs/187.jpg\n"
     ]
    },
    {
     "name": "stderr",
     "output_type": "stream",
     "text": [
      "\n",
      "\n",
      "\n",
      " 71%|███████▏  | 10/14 [00:29<00:10,  2.73s/it]\u001b[A\u001b[A\u001b[A\n",
      "\n",
      "\n",
      " 79%|███████▊  | 11/14 [00:31<00:08,  2.70s/it]\u001b[A\u001b[A\u001b[A"
     ]
    },
    {
     "name": "stdout",
     "output_type": "stream",
     "text": [
      "Could not copy ./data/lecoq/54.jpg\n",
      "Could not copy ./data/lecoq/63.jpg\n"
     ]
    },
    {
     "name": "stderr",
     "output_type": "stream",
     "text": [
      "\n",
      "\n",
      "\n",
      " 86%|████████▌ | 12/14 [00:36<00:06,  3.13s/it]\u001b[A\u001b[A\u001b[A\n",
      "\n",
      "\n",
      " 93%|█████████▎| 13/14 [00:39<00:03,  3.09s/it]\u001b[A\u001b[A\u001b[A\n",
      "\n",
      "\n",
      "100%|██████████| 14/14 [00:41<00:00,  2.84s/it]\u001b[A\u001b[A\u001b[A\n",
      "\n",
      "\n",
      "\u001b[A\u001b[A\u001b[A"
     ]
    }
   ],
   "source": [
    "for cl,fl in tqdm(files.items()):\n",
    "    select_train = np.random.choice(fl, size=NUM_TRAIN, replace=False,).tolist()\n",
    "    select_train = list(filter(lambda x: x if x.endswith('jpg') or x.endswith('jpeg') else None, select_train))\n",
    "    select_test = np.random.choice(fl, size=NUM_TEST, replace=False,).tolist()\n",
    "    select_test = list(filter(lambda x: x if x.endswith('jpg') or x.endswith('jpeg') else None, select_test))\n",
    "    train_dest = os.path.join(TRAIN_DIR, cl)\n",
    "    test_dest = os.path.join(TEST_DIR, cl)\n",
    "    for tr in select_train:\n",
    "        img_shape = imageio.imread(tr).shape\n",
    "        if (len(img_shape) == 3) & (img_shape[-1] == 3):\n",
    "            _ = shutil.copy(tr, train_dest)\n",
    "        else:\n",
    "            print('Could not copy %s' % tr)\n",
    "    for te in select_test:\n",
    "        img_shape = imageio.imread(te).shape\n",
    "        if (len(img_shape) == 3) & (img_shape[-1] == 3):\n",
    "            _ = shutil.copy(te, test_dest)\n",
    "        else:\n",
    "            print('Could not copy %s' % te)"
   ]
  },
  {
   "cell_type": "markdown",
   "metadata": {},
   "source": [
    "##### Save dataframes with image paths and labels"
   ]
  },
  {
   "cell_type": "code",
   "execution_count": 73,
   "metadata": {},
   "outputs": [],
   "source": [
    "train_df = pd.DataFrame(columns=['class','filepath'])\n",
    "test_df = pd.DataFrame(columns=['class','filepath'])\n",
    "\n",
    "for cl in classes:\n",
    "    train_dest = os.path.join(TRAIN_DIR, cl)\n",
    "    test_dest = os.path.join(TEST_DIR, cl)\n",
    "    train_filepaths = [os.path.join(train_dest, fp) for fp in os.listdir(train_dest)]\n",
    "    test_filepaths = [os.path.join(test_dest, fp) for fp in os.listdir(test_dest)]\n",
    "    train_df = train_df.append(pd.DataFrame({'class': cl,\n",
    "                                             'filepath': train_filepaths}))\n",
    "    test_df = test_df.append(pd.DataFrame({'class': cl,\n",
    "                                             'filepath': test_filepaths}))"
   ]
  },
  {
   "cell_type": "code",
   "execution_count": 74,
   "metadata": {},
   "outputs": [
    {
     "data": {
      "text/plain": [
       "((1381, 2), (418, 2))"
      ]
     },
     "execution_count": 74,
     "metadata": {},
     "output_type": "execute_result"
    }
   ],
   "source": [
    "train_df.shape, test_df.shape"
   ]
  },
  {
   "cell_type": "code",
   "execution_count": 75,
   "metadata": {},
   "outputs": [],
   "source": [
    "train_df.sample(n=len(train_df), replace=False).to_csv('./train_df.csv', index=False)\n",
    "test_df.sample(n=len(test_df), replace=False).to_csv('./test_df.csv', index=False)"
   ]
  },
  {
   "cell_type": "code",
   "execution_count": null,
   "metadata": {},
   "outputs": [],
   "source": []
  }
 ],
 "metadata": {
  "kernelspec": {
   "display_name": "Python 3",
   "language": "python",
   "name": "python3"
  },
  "language_info": {
   "codemirror_mode": {
    "name": "ipython",
    "version": 3
   },
   "file_extension": ".py",
   "mimetype": "text/x-python",
   "name": "python",
   "nbconvert_exporter": "python",
   "pygments_lexer": "ipython3",
   "version": "3.5.5"
  }
 },
 "nbformat": 4,
 "nbformat_minor": 1
}
